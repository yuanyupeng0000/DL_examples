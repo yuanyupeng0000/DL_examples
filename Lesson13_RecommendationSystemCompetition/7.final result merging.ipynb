{
 "cells": [
  {
   "cell_type": "markdown",
   "metadata": {},
   "source": [
    "## 提交结果格式处理"
   ]
  },
  {
   "cell_type": "code",
   "execution_count": null,
   "metadata": {
    "collapsed": true
   },
   "outputs": [],
   "source": [
    "# -*- coding: utf-8 -*-\n",
    "\n",
    "import pandas as pd\n",
    "import os\n",
    "\n",
    "match_pred = pd.read_csv('../output/match_pred.csv')\n",
    "match_pred.fillna('', inplace=True)\n",
    "match_pred = match_pred['hotel_cluster'].tolist()\n",
    "match_pred = [s.split(' ') for s in match_pred]\n",
    "\n",
    "pred_sub = pd.read_csv('../output/pred_sub.csv')\n",
    "ids = pred_sub.id\n",
    "pred_sub = pred_sub['hotel_cluster'].tolist()\n",
    "pred_sub = [s.split(' ') for s in pred_sub]\n",
    "\n",
    "def f5(seq, idfun=None): \n",
    "    if idfun is None:\n",
    "        def idfun(x): return x\n",
    "    seen = {}\n",
    "    result = []\n",
    "    for item in seq:\n",
    "        marker = idfun(item)\n",
    "        if (marker in seen) or (marker == ''): continue\n",
    "        seen[marker] = 1\n",
    "        result.append(item)\n",
    "    return result\n",
    "    \n",
    "full_preds = [f5(match_pred[p] + pred_sub[p])[:5] for p in range(len(pred_sub))]\n",
    "\n",
    "write_p = [\" \".join([str(l) for l in p]) for p in full_preds]\n",
    "write_frame = [\"{0},{1}\".format(ids[i], write_p[i]) for i in range(len(full_preds))]\n",
    "write_frame = [\"id,hotel_cluster\"] + write_frame\n",
    "with open(\"../output/predictions.csv\", \"w+\") as f:\n",
    "    f.write(\"\\n\".join(write_frame))"
   ]
  }
 ],
 "metadata": {
  "kernelspec": {
   "display_name": "Python 2",
   "language": "python",
   "name": "python2"
  },
  "language_info": {
   "codemirror_mode": {
    "name": "ipython",
    "version": 2
   },
   "file_extension": ".py",
   "mimetype": "text/x-python",
   "name": "python",
   "nbconvert_exporter": "python",
   "pygments_lexer": "ipython2",
   "version": "2.7.12"
  }
 },
 "nbformat": 4,
 "nbformat_minor": 2
}
