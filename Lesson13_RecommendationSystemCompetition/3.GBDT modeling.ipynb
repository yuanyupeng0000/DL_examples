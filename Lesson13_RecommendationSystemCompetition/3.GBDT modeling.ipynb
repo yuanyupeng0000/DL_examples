{
 "cells": [
  {
   "cell_type": "markdown",
   "metadata": {},
   "source": [
    "## GBDT建模"
   ]
  },
  {
   "cell_type": "markdown",
   "metadata": {},
   "source": [
    "### 1.引入工具包"
   ]
  },
  {
   "cell_type": "code",
   "execution_count": null,
   "metadata": {
    "collapsed": true
   },
   "outputs": [],
   "source": [
    "# -*- coding: utf-8 -*-\n",
    "\n",
    "import pandas as pd\n",
    "import datetime\n",
    "from sklearn import cross_validation\n",
    "import xgboost as xgb\n",
    "import numpy as np\n",
    "import h5py\n",
    "import os"
   ]
  },
  {
   "cell_type": "markdown",
   "metadata": {},
   "source": [
    "### 数据预处理"
   ]
  },
  {
   "cell_type": "code",
   "execution_count": null,
   "metadata": {
    "collapsed": true
   },
   "outputs": [],
   "source": [
    "#预处理\n",
    "def pre_process(data):\n",
    "    try:\n",
    "        data.loc[data.srch_ci.str.endswith('00'),'srch_ci'] = '2015-12-31'\n",
    "        data['srch_ci'] = data.srch_ci.astype(np.datetime64)\n",
    "        data.loc[data.date_time.str.endswith('00'),'date_time'] = '2015-12-31'\n",
    "        data['date_time'] = data.date_time.astype(np.datetime64)\n",
    "    except:\n",
    "        pass\n",
    "    data.fillna(0, inplace=True)\n",
    "    data['srch_duration'] = data.srch_co-data.srch_ci\n",
    "    data['srch_duration'] = data['srch_duration'].apply(lambda td: td/np.timedelta64(1, 'D'))\n",
    "    data['time_to_ci'] = data.srch_ci-data.date_time\n",
    "    data['time_to_ci'] = data['time_to_ci'].apply(lambda td: td/np.timedelta64(1, 'D'))\n",
    "    data['ci_month'] = data['srch_ci'].apply(lambda dt: dt.month)\n",
    "    data['ci_day'] = data['srch_ci'].apply(lambda dt: dt.day)\n",
    "    #data['ci_year'] = data['srch_ci'].apply(lambda dt: dt.year)\n",
    "    data['bk_month'] = data['date_time'].apply(lambda dt: dt.month)\n",
    "    data['bk_day'] = data['date_time'].apply(lambda dt: dt.day)\n",
    "    #data['bk_year'] = data['date_time'].apply(lambda dt: dt.year)\n",
    "    data['bk_hour'] = data['date_time'].apply(lambda dt: dt.hour)\n",
    "    data.drop(['date_time', 'user_id', 'srch_ci', 'srch_co'], axis=1, inplace=True)\n",
    "\n",
    "if os.path.exists('../output/srch_dest_hc_hm_agg.csv'):\n",
    "    agg1 = pd.read_csv('../output/srch_dest_hc_hm_agg.csv')\n",
    "else:\n",
    "    reader = pd.read_csv('../input/train.csv', parse_dates=['date_time', 'srch_ci', 'srch_co'], chunksize=200000)\n",
    "    pieces = [chunk.groupby(['srch_destination_id','hotel_country','hotel_market','hotel_cluster'])['is_booking'].agg(['sum','count']) for chunk in reader]\n",
    "    agg = pd.concat(pieces).groupby(level=[0,1,2,3]).sum()\n",
    "    del pieces\n",
    "    agg.dropna(inplace=True)\n",
    "    agg['sum_and_cnt'] = 0.85*agg['sum'] + 0.15*agg['count']\n",
    "    agg = agg.groupby(level=[0,1,2]).apply(lambda x: x.astype(float)/x.sum())\n",
    "    agg.reset_index(inplace=True)\n",
    "    agg1 = agg.pivot_table(index=['srch_destination_id','hotel_country','hotel_market'], columns='hotel_cluster', values='sum_and_cnt').reset_index()\n",
    "    agg1.to_csv('../output/srch_dest_hc_hm_agg.csv', index=False)\n",
    "    del agg\n",
    "\n",
    "destinations = pd.read_csv('../input/destinations.csv')\n",
    "submission = pd.read_csv('../input/sample_submission.csv')"
   ]
  },
  {
   "cell_type": "markdown",
   "metadata": {},
   "source": [
    "### 评估标准"
   ]
  },
  {
   "cell_type": "code",
   "execution_count": null,
   "metadata": {
    "collapsed": true
   },
   "outputs": [],
   "source": [
    "#评估标准\n",
    "def map5eval(preds, dtrain):\n",
    "    actual = dtrain.get_label()\n",
    "    predicted = preds.argsort(axis=1)[:,-np.arange(5)]\n",
    "    metric = 0.\n",
    "    for i in range(5):\n",
    "        metric += np.sum(actual==predicted[:,i])/(i+1)\n",
    "    metric /= actual.shape[0]\n",
    "    return 'MAP@5', -metric"
   ]
  },
  {
   "cell_type": "markdown",
   "metadata": {},
   "source": [
    "### 预测写入结果"
   ]
  },
  {
   "cell_type": "code",
   "execution_count": null,
   "metadata": {
    "collapsed": true
   },
   "outputs": [],
   "source": [
    "clf = xgb.XGBClassifier(\n",
    "                objective = 'multi:softmax',\n",
    "                max_depth = 5,\n",
    "                n_estimators=300,\n",
    "                learning_rate=0.01,\n",
    "                nthread=4,\n",
    "                subsample=0.7,\n",
    "                colsample_bytree=0.7,\n",
    "                min_child_weight = 3,\n",
    "                silent=False)\n",
    "\n",
    "\n",
    "if os.path.exists('rows_complete.txt'):\n",
    "    with open('rows_complete.txt', 'r') as f:\n",
    "        skipsize = int(f.readline())\n",
    "else:\n",
    "    skipsize = 0\n",
    "\n",
    "skip = 0 if skipsize==0 else range(1, skipsize)\n",
    "tchunksize = 1000000\n",
    "print('%d rows will be skipped and next %d rows will be used for training' % (skipsize, tchunksize))\n",
    "train = pd.read_csv('../input/train.csv', parse_dates=['date_time', 'srch_ci', 'srch_co'], skiprows=skip, nrows=tchunksize)\n",
    "train = train[train.is_booking==1]\n",
    "train = pd.merge(train, destinations, how='left', on='srch_destination_id')\n",
    "train = pd.merge(train, agg1, how='left', on=['srch_destination_id','hotel_country','hotel_market'])\n",
    "pre_process(train)\n",
    "#chunk = chunk[chunk.ci_year==2014]\n",
    "y = train.hotel_cluster\n",
    "train.drop(['cnt', 'hotel_cluster', 'is_booking'], axis=1, inplace=True)\n",
    "\n",
    "X_train, X_test, y_train, y_test = cross_validation.train_test_split(train, y, stratify=y, test_size=0.2)\n",
    "clf.fit(X_train, y_train, early_stopping_rounds=50, eval_metric=map5eval, eval_set=[(X_train, y_train),(X_test, y_test)])\n",
    "\n",
    "\n",
    "count = 0\n",
    "chunksize = 10000\n",
    "preds = np.empty((submission.shape[0],clf.n_classes_))\n",
    "#chunk = pd.read_csv('../input/test.csv', parse_dates=['date_time', 'srch_ci', 'srch_co'], nrows=10000)\n",
    "reader = pd.read_csv('../input/test.csv', parse_dates=['date_time', 'srch_ci', 'srch_co'], chunksize=chunksize)\n",
    "for chunk in reader:\n",
    "    chunk = pd.merge(chunk, destinations, how='left', on='srch_destination_id')\n",
    "    chunk = pd.merge(chunk, agg1, how='left', on=['srch_destination_id','hotel_country','hotel_market'])\n",
    "    chunk.drop(['id'], axis=1, inplace=True)\n",
    "    pre_process(chunk)\n",
    "    \n",
    "    pred = clf.predict_proba(chunk)\n",
    "    preds[count:(count + chunk.shape[0]),:] = pred\n",
    "    count = count + chunksize\n",
    "    print('%d rows completed' % count)\n",
    "\n",
    "del clf\n",
    "del agg1\n",
    "if os.path.exists('../output/probs/allpreds_xgb.h5'):\n",
    "    with h5py.File('../output/probs/allpreds_xgb.h5', 'r+') as hf:\n",
    "        print('reading in and combining probabilities')\n",
    "        predshf = hf['preds']\n",
    "        preds += predshf.value\n",
    "        print('writing latest probabilities to file')\n",
    "        predshf[...] = preds\n",
    "else:\n",
    "    with h5py.File('../output/probs/allpreds_xgb.h5', 'w') as hf:\n",
    "        print('writing latest probabilities to file')\n",
    "        hf.create_dataset('preds', data=preds)\n",
    "\n",
    "print('generating submission')\n",
    "col_ind = np.argsort(-preds, axis=1)[:,:5]\n",
    "hc = [' '.join(row.astype(str)) for row in col_ind]\n",
    "\n",
    "sub = pd.DataFrame(data=hc, index=submission.id)\n",
    "sub.reset_index(inplace=True)\n",
    "sub.columns = submission.columns\n",
    "sub.to_csv('../output/pred_sub.csv', index=False)\n",
    "\n",
    "\n",
    "skipsize += tchunksize\n",
    "with open('rows_complete.txt', 'w') as f:\n",
    "    f.write(str(skipsize))"
   ]
  }
 ],
 "metadata": {
  "kernelspec": {
   "display_name": "Python 2",
   "language": "python",
   "name": "python2"
  },
  "language_info": {
   "codemirror_mode": {
    "name": "ipython",
    "version": 2
   },
   "file_extension": ".py",
   "mimetype": "text/x-python",
   "name": "python",
   "nbconvert_exporter": "python",
   "pygments_lexer": "ipython2",
   "version": "2.7.12"
  }
 },
 "nbformat": 4,
 "nbformat_minor": 2
}
