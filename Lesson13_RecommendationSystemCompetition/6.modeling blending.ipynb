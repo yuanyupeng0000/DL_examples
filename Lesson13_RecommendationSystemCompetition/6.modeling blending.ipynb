{
 "cells": [
  {
   "cell_type": "markdown",
   "metadata": {},
   "source": [
    "## 模型融合"
   ]
  },
  {
   "cell_type": "markdown",
   "metadata": {},
   "source": [
    "这里使用了相对简单的融合方法，对模型做一个blending，相比之stacking，在数据比赛中，通常blending用得更多，相对而言没有那么容易overfitting。"
   ]
  },
  {
   "cell_type": "code",
   "execution_count": null,
   "metadata": {
    "collapsed": true
   },
   "outputs": [],
   "source": [
    "# -*- coding: utf-8 -*-\n",
    "\n",
    "import pandas as pd\n",
    "import numpy as np\n",
    "from sklearn.preprocessing import normalize\n",
    "import h5py\n",
    "import os\n",
    "\n",
    "submission = pd.read_csv('../input/sample_submission.csv')\n",
    "\n",
    "# read in RF results\n",
    "with h5py.File('../output/probs/allpreds.h5', 'r') as hf:\n",
    "        predshf = hf['preds_latest']\n",
    "        preds = 0.31*normalize(predshf.value, norm='l1', axis=1)\n",
    "\n",
    "# read in XGB results\n",
    "with h5py.File('../output/probs/allpreds_xgb.h5', 'r') as hf:\n",
    "        predshf = hf['preds']\n",
    "        preds += 0.39*normalize(predshf.value, norm='l1', axis=1)\n",
    "\n",
    "# read in SGD results\n",
    "with h5py.File('../output/probs/allpreds_sgd.h5', 'r') as hf:\n",
    "        predshf = hf['preds']\n",
    "        preds += 0.27*normalize(predshf.value, norm='l1', axis=1)\n",
    "\n",
    "# read in Bernoulli NB results\n",
    "with h5py.File('../output/probs/allpreds_bnb.h5', 'r') as hf:\n",
    "        predshf = hf['preds']\n",
    "        preds += 0.03*normalize(predshf.value, norm='l1', axis=1)\n",
    "\n",
    "print('generating submission')\n",
    "col_ind = np.argsort(-preds, axis=1)[:,:5]\n",
    "hc = [' '.join(row.astype(str)) for row in col_ind]\n",
    "\n",
    "sub = pd.DataFrame(data=hc, index=submission.id)\n",
    "sub.reset_index(inplace=True)\n",
    "sub.columns = submission.columns\n",
    "sub.to_csv('../output/pred_sub.csv', index=False)"
   ]
  }
 ],
 "metadata": {
  "kernelspec": {
   "display_name": "Python 2",
   "language": "python",
   "name": "python2"
  },
  "language_info": {
   "codemirror_mode": {
    "name": "ipython",
    "version": 2
   },
   "file_extension": ".py",
   "mimetype": "text/x-python",
   "name": "python",
   "nbconvert_exporter": "python",
   "pygments_lexer": "ipython2",
   "version": "2.7.12"
  }
 },
 "nbformat": 4,
 "nbformat_minor": 2
}
